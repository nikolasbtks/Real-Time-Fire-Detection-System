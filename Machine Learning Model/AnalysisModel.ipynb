{
  "nbformat": 4,
  "nbformat_minor": 0,
  "metadata": {
    "colab": {
      "provenance": []
    },
    "kernelspec": {
      "name": "python3",
      "display_name": "Python 3"
    },
    "language_info": {
      "name": "python"
    }
  },
  "cells": [
    {
      "cell_type": "code",
      "execution_count": 20,
      "metadata": {
        "id": "lSBUcF7nMjbx"
      },
      "outputs": [],
      "source": [
        "import numpy as np\n",
        "from sklearn.model_selection import train_test_split\n",
        "from sklearn.metrics import accuracy_score, classification_report\n",
        "from sklearn.ensemble import RandomForestClassifier\n",
        "from google.colab import files\n",
        "import joblib"
      ]
    },
    {
      "cell_type": "code",
      "source": [
        "def synthetic_data(seed=42, samples=1000):\n",
        "  np.random.seed(seed);\n",
        "\n",
        "  X = []\n",
        "  y = []\n",
        "\n",
        "  for _ in range(samples):\n",
        "    label = np.random.choice([0, 1, 2])\n",
        "\n",
        "    if label == 0:\n",
        "      sequence = np.random.randint(900, 1024, size=10)\n",
        "    elif label == 1:\n",
        "      if np.random.rand() < 0.5:\n",
        "        sequence = np.random.randint(31, 900, size=10)\n",
        "      else:\n",
        "        sequence = np.random.normal(loc=25, scale=1, size=10)\n",
        "        sequence = np.clip(sequence, 24, 30).astype(int)\n",
        "    else:\n",
        "      sequence = np.random.randint(10, 31, size=10)\n",
        "\n",
        "    X.append(sequence)\n",
        "    y.append(label)\n",
        "\n",
        "  X = np.array(X)\n",
        "  y = np.array(y)\n",
        "  return X,y"
      ],
      "metadata": {
        "id": "C9JC4xvmMo2_"
      },
      "execution_count": 21,
      "outputs": []
    },
    {
      "cell_type": "code",
      "source": [
        "def extract_features(sequence):\n",
        "  sequence = np.array(sequence)\n",
        "  feature_mean = np.mean(sequence)\n",
        "  feature_std = np.std(sequence)\n",
        "  feature_minimum = np.min(sequence)\n",
        "  feature_maximum = np.max(sequence)\n",
        "  feature_range = feature_maximum - feature_minimum\n",
        "\n",
        "  diffs = np.diff(sequence)\n",
        "  mean_diff = np.mean(diffs) if len(diffs) > 0 else 0\n",
        "\n",
        "  return [feature_mean, feature_std, feature_minimum, feature_maximum, feature_range, mean_diff]"
      ],
      "metadata": {
        "id": "Hkf0NJ-eMpHe"
      },
      "execution_count": 22,
      "outputs": []
    },
    {
      "cell_type": "code",
      "source": [
        "if __name__ == \"__main__\":\n",
        "  X_raw, y = synthetic_data(seed=42, samples=3000)\n",
        "  print(\"X_raw shape:\", X_raw.shape)\n",
        "  print(\"y shape:\", y.shape)\n",
        "\n",
        "  X_features = np.array([extract_features(sequence) for sequence in  X_raw])\n",
        "  print(\"X_features shape:\", X_features.shape)\n",
        "\n",
        "  X_train, X_test, y_train, y_test = train_test_split(\n",
        "      X_features,\n",
        "      y,\n",
        "      test_size=0.2,\n",
        "      random_state=42,\n",
        "      stratify=y\n",
        "  )\n",
        "\n",
        "  model = RandomForestClassifier(n_estimators=100, random_state=42)\n",
        "  model.fit(X_train, y_train)\n",
        "\n",
        "  y_pred = model.predict(X_test)\n",
        "  acc = accuracy_score(y_test, y_pred)\n",
        "  print(\"Test Accuracy:\", acc)\n",
        "  print(classification_report(y_test, y_pred))"
      ],
      "metadata": {
        "colab": {
          "base_uri": "https://localhost:8080/"
        },
        "id": "RaLfwT-AMpXr",
        "outputId": "83b74bc8-d431-48f0-fb7e-3b8508465a9a"
      },
      "execution_count": 23,
      "outputs": [
        {
          "output_type": "stream",
          "name": "stdout",
          "text": [
            "X_raw shape: (3000, 10)\n",
            "y shape: (3000,)\n",
            "X_features shape: (3000, 6)\n",
            "Test Accuracy: 1.0\n",
            "              precision    recall  f1-score   support\n",
            "\n",
            "           0       1.00      1.00      1.00       202\n",
            "           1       1.00      1.00      1.00       209\n",
            "           2       1.00      1.00      1.00       189\n",
            "\n",
            "    accuracy                           1.00       600\n",
            "   macro avg       1.00      1.00      1.00       600\n",
            "weighted avg       1.00      1.00      1.00       600\n",
            "\n"
          ]
        }
      ]
    },
    {
      "cell_type": "code",
      "source": [
        "new_sequence = np.array([1024, 1024, 1024, 27, 26, 400, 500, 99, 29])\n",
        "new_features = np.array(extract_features(new_sequence)).reshape(1, -1)\n",
        "prediction = model.predict(new_features)\n",
        "predicted_class = prediction[0]\n",
        "\n",
        "joblib.dump(model, \"model.pkl\")\n",
        "files.download(\"model.pkl\")\n",
        "\n",
        "print(\"New sequence:\", new_sequence, \"| Predicted class:\", predicted_class)\n",
        "if predicted_class == 0:\n",
        "  print(\">>> No Fire\")\n",
        "elif predicted_class == 1:\n",
        "  print(\">>> Suspicious Activity\")\n",
        "else:\n",
        "  print(\">>> Fire\")"
      ],
      "metadata": {
        "colab": {
          "base_uri": "https://localhost:8080/"
        },
        "id": "acwz2nEYMpn0",
        "outputId": "9696c046-bbd6-4523-e590-88f173589d79"
      },
      "execution_count": 24,
      "outputs": [
        {
          "output_type": "stream",
          "name": "stdout",
          "text": [
            "New sequence: [1024 1024 1024   27   26  400  500   99   29] | Predicted class: 1\n",
            ">>> Suspicious Activity\n"
          ]
        }
      ]
    }
  ]
}